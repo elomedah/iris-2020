{
  "nbformat": 4,
  "nbformat_minor": 0,
  "metadata": {
    "colab": {
      "name": "python_rappel_and_numpy.ipynb",
      "provenance": [],
      "collapsed_sections": [
        "eQpOJzvLQYCO",
        "1WsLY82ELyGc"
      ],
      "toc_visible": true
    },
    "kernelspec": {
      "name": "python3",
      "display_name": "Python 3"
    }
  },
  "cells": [
    {
      "cell_type": "markdown",
      "metadata": {
        "id": "eQpOJzvLQYCO"
      },
      "source": [
        "# Rappel"
      ]
    },
    {
      "cell_type": "markdown",
      "metadata": {
        "id": "XAUQqIFwQcVY"
      },
      "source": [
        "Déclaration de variable\r\n",
        "\r\n",
        "\r\n",
        "> Déclarer une variable a et affecter la valeur à 10\r\n",
        "\r\n"
      ]
    },
    {
      "cell_type": "code",
      "metadata": {
        "id": "omKH5OQtQfx3"
      },
      "source": [
        ""
      ],
      "execution_count": null,
      "outputs": []
    },
    {
      "cell_type": "markdown",
      "metadata": {
        "id": "tbzZoRcbQs1A"
      },
      "source": [
        "Fonctions"
      ]
    },
    {
      "cell_type": "markdown",
      "metadata": {
        "id": "fhba1GlhQ6ao"
      },
      "source": [
        "Ecrire une fonction qui vérifie si un nombre est pair. La fonction doit retourner True si le nombre est pair et False sinon "
      ]
    },
    {
      "cell_type": "code",
      "metadata": {
        "id": "jx8g_m4RRJmR"
      },
      "source": [
        ""
      ],
      "execution_count": null,
      "outputs": []
    },
    {
      "cell_type": "markdown",
      "metadata": {
        "id": "EKYV5C-JRPGZ"
      },
      "source": [
        "Ecrire une fonction qui vérifie si un nombre est présent dans une liste"
      ]
    },
    {
      "cell_type": "code",
      "metadata": {
        "id": "qRIoaM7MRWJw"
      },
      "source": [
        "def contains_element(elements, element) :\r\n",
        "\r\n",
        "\r\n",
        "  return False\r\n",
        "\r\n",
        "\r\n",
        "## Si la fonction est bien implementée ce test devrait fonctionner\r\n",
        "assert contains_element([1,2],0)==False, \"Result should be False\"\r\n",
        "assert contains_element([1,2],2)==True, \"Result should be True\""
      ],
      "execution_count": null,
      "outputs": []
    },
    {
      "cell_type": "markdown",
      "metadata": {
        "id": "fMp_VEf77kkb"
      },
      "source": [
        "Ecrire une fonction Python pour inverser une chaîne"
      ]
    },
    {
      "cell_type": "code",
      "metadata": {
        "id": "XfFt5VCb7wK9"
      },
      "source": [
        "def inverser_chaine(chaines):\r\n",
        "\r\n",
        "  return \r\n",
        "\r\n",
        "## Si la fonction est bien implementée ce test devrait fonctionner\r\n",
        "assert inverser_chaine(\"123456789\")==\"987654321\", \"Result should be 987654321\"\r\n",
        "assert inverser_chaine(\"Papa\")==\"apaP\", \"Result should be apaP\"\r\n",
        "assert inverser_chaine(\"\")==\"\", \"Result should be empty\""
      ],
      "execution_count": null,
      "outputs": []
    },
    {
      "cell_type": "markdown",
      "metadata": {
        "id": "BIjrUjD-9x8A"
      },
      "source": [
        "Ecrire une fonction Python qui prend une liste et renvoie une nouvelle liste avec des éléments uniques de la première liste"
      ]
    },
    {
      "cell_type": "code",
      "metadata": {
        "id": "DBlYNuQx92oz"
      },
      "source": [
        "def unique_list(my_list):\r\n",
        " \r\n",
        "  return \r\n",
        "\r\n",
        "# Result should be [2,3,4]\r\n",
        "unique_list([2,3,4,2,3,3])"
      ],
      "execution_count": null,
      "outputs": []
    },
    {
      "cell_type": "markdown",
      "metadata": {
        "id": "pRi3IQXH-jZH"
      },
      "source": [
        "Ecrivez une fonction Python pour vérifier si un nombre est parfait ou non.\r\n",
        "\r\n",
        "*En théorie des nombres, un nombre parfait est un entier positif égal à la somme de ses diviseurs positifs propres, c'est-à-dire la somme de ses diviseurs positifs à l'exclusion du nombre lui-même. De manière équivalente, un nombre parfait est un nombre égal à la moitié de la somme de tous ses diviseurs positifs (y compris lui-même).\r\n",
        "Exemple: Le premier nombre parfait est 6, car 1, 2 et 3 sont ses diviseurs positifs propres, et 1 + 2 + 3 = 6. De manière équivalente, le nombre 6 est égal à la moitié de la somme de tous ses diviseurs positifs: (1 + 2 + 3 + 6) / 2 = 6. Le nombre parfait suivant est 28 = 1 + 2 + 4 + 7 + 14. Il est suivi des nombres parfaits 496 et 8128.*"
      ]
    },
    {
      "cell_type": "code",
      "metadata": {
        "id": "U4jHehSl-ku0"
      },
      "source": [
        ""
      ],
      "execution_count": null,
      "outputs": []
    },
    {
      "cell_type": "markdown",
      "metadata": {
        "id": "1WsLY82ELyGc"
      },
      "source": [
        "# NumPy\r\n",
        "\r\n",
        "\r\n",
        "\r\n"
      ]
    },
    {
      "cell_type": "markdown",
      "metadata": {
        "id": "Ic1VQp_kL_UQ"
      },
      "source": [
        "La bibliothèque NumPy (http://www.numpy.org/) permet d’effectuer des calculs numériques avec Python. Elle introduit une gestion facilitée des tableaux de nombres."
      ]
    },
    {
      "cell_type": "code",
      "metadata": {
        "id": "u_r6Up19L--y"
      },
      "source": [
        "#Importer la bibliothèque\r\n",
        "import numpy as np"
      ],
      "execution_count": null,
      "outputs": []
    },
    {
      "cell_type": "markdown",
      "metadata": {
        "id": "RIF7Dji7MTNH"
      },
      "source": [
        "Les tableaux (en anglais, array) peuvent être créés avec numpy.array(). On utilise des crochets pour délimiter les listes d’éléments dans les tableaux."
      ]
    },
    {
      "cell_type": "code",
      "metadata": {
        "id": "QYiiQVR13upw"
      },
      "source": [
        "my_array = np.array([[1, 2, 3], [4, 5, 6]])\r\n",
        "\r\n",
        "#Vérifier le type du tableau créé"
      ],
      "execution_count": null,
      "outputs": []
    },
    {
      "cell_type": "markdown",
      "metadata": {
        "id": "Cx2Rhke4Mn-i"
      },
      "source": [
        "Accès aux éléments d’un tableau\r\n",
        "\r\n",
        "`Comme pour les listes, les indices des éléments commencent à zéro.`"
      ]
    },
    {
      "cell_type": "code",
      "metadata": {
        "id": "FaLTc4xdMxZs"
      },
      "source": [
        "# Récuperer la valeur qui se trouve à la coordonnée 0 , 2\r\n",
        "my_array[0,2]\r\n",
        "\r\n",
        "# Quel sera le resulat de my_array[2,2]"
      ],
      "execution_count": null,
      "outputs": []
    },
    {
      "cell_type": "markdown",
      "metadata": {
        "id": "n9zaZKn_NQdq"
      },
      "source": [
        "La fonction numpy.arange()\r\n",
        "\r\n",
        "*   numpy.arange([start, ]stop, [step, ]dtype=None, *, like=None)\r\n",
        "*   https://numpy.org/doc/stable/reference/generated/numpy.arange.html\r\n",
        "\r\n"
      ]
    },
    {
      "cell_type": "code",
      "metadata": {
        "id": "GPnSBC5MNka-"
      },
      "source": [
        "# Generer un tableau dont les élements commencent par 2 , la valeur maximale 10 et le pas 2\r\n"
      ],
      "execution_count": null,
      "outputs": []
    },
    {
      "cell_type": "markdown",
      "metadata": {
        "id": "p3vLoHh8OzKg"
      },
      "source": [
        "Extraire une ligne ou une colonne\r\n",
        "\r\n",
        "Vous pouvez vous inspirer de ce article \r\n",
        "https://www.w3schools.com/python/numpy_array_slicing.asp\r\n",
        "\r\n"
      ]
    },
    {
      "cell_type": "code",
      "metadata": {
        "id": "bHWLLMEbOvL1"
      },
      "source": [
        "#Extraire la première ligne\r\n",
        "\r\n",
        "\r\n",
        "#Extraine la deuxième colonne"
      ],
      "execution_count": null,
      "outputs": []
    }
  ]
}