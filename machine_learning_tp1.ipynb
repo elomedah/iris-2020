{
  "nbformat": 4,
  "nbformat_minor": 0,
  "metadata": {
    "colab": {
      "name": "machine_learning_tp1.ipynb",
      "provenance": [],
      "collapsed_sections": []
    },
    "kernelspec": {
      "name": "python3",
      "display_name": "Python 3"
    }
  },
  "cells": [
    {
      "cell_type": "markdown",
      "metadata": {
        "id": "97l0GSy4mOui"
      },
      "source": [
        "#**Introduction**\r\n"
      ]
    },
    {
      "cell_type": "markdown",
      "metadata": {
        "id": "zAIjsAGjh4iT"
      },
      "source": [
        "Après avoir fait un tour sur les sites de location d'appartement, vous avez des doutes sur le loyer que vous payez chaque mois.\r\n",
        "Pour avoir une idée plus factuelle vous avez décidé de collecter les prix et les caractéristiques des appartements.\r\n",
        "\r\n",
        "Vous aimeriez répondre à cette question : \r\n",
        "***Étant donné les caractéristiques de mon appartement, combien devrais-je normalement payer mon loyer ?***\r\n",
        "\r\n",
        "\r\n"
      ]
    },
    {
      "cell_type": "markdown",
      "metadata": {
        "id": "s6IKKe6rmuai"
      },
      "source": [
        "# **Collecte des données**"
      ]
    },
    {
      "cell_type": "markdown",
      "metadata": {
        "id": "9dN0HXY6nARb"
      },
      "source": [
        "\r\n",
        "En utilisant les techniques de ***web crawling***  vous avez pu collecter un ensemble de données. Vous avez également trouvez sur open Data un ensemble de données. https://www.data.gouv.fr/fr/datasets/resultats-nationaux-des-observatoires-locaux-des-loyers/\r\n",
        "\r\n"
      ]
    },
    {
      "cell_type": "markdown",
      "metadata": {
        "id": "upTmzpZBq8Vl"
      },
      "source": [
        "*Quelles sont les autres techniques de collecte que vous connaisez ?*"
      ]
    },
    {
      "cell_type": "markdown",
      "metadata": {
        "id": "pjxljFcMp5lK"
      },
      "source": [
        "# **Nettoyage des données**"
      ]
    },
    {
      "cell_type": "markdown",
      "metadata": {
        "id": "17fGOfszqHwh"
      },
      "source": [
        "Avant de commencer votre étude vous avez nettoyé vos données pour supprimer les données incomplètes.\r\n",
        "Vous aviez collecté tellement de données que vous aggragé les données.\r\n",
        "\r\n",
        "\r\n",
        "Voici un lien vers les données.\r\n",
        "https://raw.githubusercontent.com/elomedah/iris-2020/main/Base_OP_2019_Nationale.csv"
      ]
    },
    {
      "cell_type": "markdown",
      "metadata": {
        "id": "flWAmeJLqsSl"
      },
      "source": [
        "*Decrivez les données ?*"
      ]
    },
    {
      "cell_type": "markdown",
      "metadata": {
        "id": "fUH1SKfnmqFs"
      },
      "source": [
        "# **Exploration des données**\r\n"
      ]
    },
    {
      "cell_type": "markdown",
      "metadata": {
        "id": "uK7dctZbnXaL"
      },
      "source": [
        "Dans cette partie vous allez explorer les données.\r\n",
        "Combien de lignes avez vous collecté ?\r\n"
      ]
    },
    {
      "cell_type": "code",
      "metadata": {
        "id": "KndmbvvBrtDJ"
      },
      "source": [
        "# On importe les librairies dont on aura besoin pour ce tp\r\n",
        "import numpy as np\r\n",
        "import pandas as pd\r\n",
        "import matplotlib.pyplot as plt"
      ],
      "execution_count": 127,
      "outputs": []
    },
    {
      "cell_type": "code",
      "metadata": {
        "id": "WgUZJPbdhxHL"
      },
      "source": [
        "# On charge le dataset\r\n",
        "house_data = pd.read_csv('https://raw.githubusercontent.com/elomedah/iris-2020/main/Base_OP_2019_Nationale.csv', delimiter=';',encoding='iso-8859-1')\r\n",
        "#Apercu du dataset\r\n",
        "house_data.describe()"
      ],
      "execution_count": null,
      "outputs": []
    },
    {
      "cell_type": "code",
      "metadata": {
        "id": "0m8M3PbysjqL"
      },
      "source": [
        "# On affiche le nuage de points dont on dispose\r\n",
        "plt.plot(house_data['surface_moyenne'], house_data['moyenne_loyer_mensuel'], 'ro', markersize=2)\r\n",
        "plt.title(\"Nuage des points de la surface par le logyer mensuel\")\r\n",
        "plt.xlabel(\"Surface\")\r\n",
        "plt.ylabel(\"Prix mensuel\")\r\n",
        "plt.show()\r\n",
        "\r\n",
        "# Que remarquez-vous ?"
      ],
      "execution_count": null,
      "outputs": []
    },
    {
      "cell_type": "code",
      "metadata": {
        "id": "iIKZDYvj_nyL"
      },
      "source": [
        "#Filtrage des données\r\n",
        "#Filter sur les données <  1600\r\n",
        "house_data_cleaned = house_data[house_data['moyenne_loyer_mensuel'] < 1800 ]\r\n",
        "#house_data_cleaned = house_data_cleaned[house_data_cleaned[\"agglomeration\"].str.contains(\"Marseille\",na=False )]\r\n",
        "#house_data_cleaned = house_data_cleaned[house_data_cleaned[\"agglomeration\"].str.startswith(\"Appart\",na=False )]\r\n",
        "plt.plot(house_data_cleaned['surface_moyenne'], house_data_cleaned['moyenne_loyer_mensuel'], 'ro', markersize=4)\r\n",
        "plt.title(\"Nuage des points de la surface par le logyer mensuel (renettoyée)\")\r\n",
        "plt.xlabel(\"Surface\")\r\n",
        "plt.ylabel(\"Prix mensuel\")\r\n",
        "plt.show()"
      ],
      "execution_count": null,
      "outputs": []
    },
    {
      "cell_type": "markdown",
      "metadata": {
        "id": "rdHcYPlrtJWB"
      },
      "source": [
        "Vous avez decidé d'utiliser une technique de machine learning.\r\n",
        "Quelle technique allez-vous utiliser ? Cherchez-vous une valeur continue ou discrète ?\r\n",
        "\r\n",
        "\r\n",
        "\r\n",
        "\r\n"
      ]
    },
    {
      "cell_type": "markdown",
      "metadata": {
        "id": "yApBdv1QuyiS"
      },
      "source": [
        "# **Modélisation**"
      ]
    },
    {
      "cell_type": "markdown",
      "metadata": {
        "id": "OLJl-OY3u8CN"
      },
      "source": [
        "La regression linéaire de la librairie scikit-learn\r\n",
        "`y = ax + b`"
      ]
    },
    {
      "cell_type": "code",
      "metadata": {
        "id": "R5TQsk_mv774"
      },
      "source": [
        "#Import de la librairie scikit-learn\r\n",
        "from sklearn import linear_model"
      ],
      "execution_count": 143,
      "outputs": []
    },
    {
      "cell_type": "code",
      "metadata": {
        "id": "K7WmveZ3v_1_"
      },
      "source": [
        "# Definition des données d'entrainement et de validation => Training dataset / Validation dataset\r\n",
        "# On décompose le dataset et on le transforme en matrices pour pouvoir effectuer notre calcul\r\n",
        "X = np.array( house_data_cleaned['surface_moyenne']).reshape(-1,1)\r\n",
        "y = np.array(house_data_cleaned['moyenne_loyer_mensuel'])\r\n",
        "\r\n",
        "# Split the data into training/testing sets\r\n",
        "X_train = X[:round(len(house_data_cleaned)*0.8)]\r\n",
        "X_test = X[round(len(house_data_cleaned)*0.8):]\r\n",
        "\r\n",
        "# Split the targets into training/testing sets\r\n",
        "y_train = y[:round(len(house_data_cleaned)*0.8)]\r\n",
        "y_test = y[round(len(house_data_cleaned)*0.8):]\r\n",
        "\r\n",
        "X"
      ],
      "execution_count": null,
      "outputs": []
    },
    {
      "cell_type": "code",
      "metadata": {
        "colab": {
          "base_uri": "https://localhost:8080/"
        },
        "id": "-8f3kNyWvStn",
        "outputId": "aad34c69-fb4f-4090-eca7-a5d9643a3c45"
      },
      "source": [
        "# Entrainer le modèle\r\n",
        "regr = linear_model.LinearRegression()\r\n",
        "regr.fit(X, y)\r\n"
      ],
      "execution_count": 172,
      "outputs": [
        {
          "output_type": "execute_result",
          "data": {
            "text/plain": [
              "LinearRegression(copy_X=True, fit_intercept=True, n_jobs=None, normalize=False)"
            ]
          },
          "metadata": {
            "tags": []
          },
          "execution_count": 172
        }
      ]
    },
    {
      "cell_type": "code",
      "metadata": {
        "id": "fGyYQCWa57Gg"
      },
      "source": [
        "#Prediction\r\n",
        "y_pred = regr.predict(X_test)"
      ],
      "execution_count": 173,
      "outputs": []
    },
    {
      "cell_type": "markdown",
      "metadata": {
        "id": "O9aBHu4yMX61"
      },
      "source": [
        "#**Evaluation et interpretation**"
      ]
    },
    {
      "cell_type": "code",
      "metadata": {
        "colab": {
          "base_uri": "https://localhost:8080/"
        },
        "id": "iK-fwU8E566V",
        "outputId": "91bd56a2-c197-429c-e6d0-ea6c0a1a21c0"
      },
      "source": [
        "from sklearn.metrics import mean_squared_error, r2_score\r\n",
        "# The coefficients\r\n",
        "print('Coefficients: \\n', regr.coef_)\r\n",
        "# The mean squared error\r\n",
        "print('Mean squared error: %.2f' % mean_squared_error(y_test, y_pred))\r\n",
        "# The coefficient of determination: 1 is perfect prediction\r\n",
        "print('Coefficient of determination: %.2f' % r2_score(y_test, y_pred))\r\n",
        "\r\n"
      ],
      "execution_count": 175,
      "outputs": [
        {
          "output_type": "stream",
          "text": [
            "Coefficients: \n",
            " [5.62659344]\n",
            "Mean squared error: 2129.82\n",
            "Coefficient of determination: 0.87\n"
          ],
          "name": "stdout"
        }
      ]
    },
    {
      "cell_type": "code",
      "metadata": {
        "colab": {
          "base_uri": "https://localhost:8080/",
          "height": 265
        },
        "id": "FvObeQVsNpir",
        "outputId": "b663d709-7e97-452f-93fb-ca5a1e087a3a"
      },
      "source": [
        "# Plot outputs\r\n",
        "\r\n",
        "plt.plot(X_test[:,0], y_test,  color='r')\r\n",
        "plt.plot(X_test[:,0], y_pred, color='g')\r\n",
        "\r\n",
        "\r\n",
        "plt.show()"
      ],
      "execution_count": 177,
      "outputs": [
        {
          "output_type": "display_data",
          "data": {
            "image/png": "[encoded data removed]",
            "text/plain": [
              "<Figure size 432x288 with 1 Axes>"
            ]
          },
          "metadata": {
            "tags": [],
            "needs_background": "light"
          }
        }
      ]
    },
    {
      "cell_type": "markdown",
      "metadata": {
        "id": "8Yr8btHzWMBu"
      },
      "source": [
        "Votre modèle est il performant ?\r\n",
        "Que proposez vous pour améliorer votre modèle ?\r\n",
        "Filtrez les données sur les villes ?\r\n",
        "Filtrez les données sur le type d'habitation ?"
      ]
    },
    {
      "cell_type": "markdown",
      "metadata": {
        "id": "7yvPVgeq1CYW"
      },
      "source": [
        "# Conclusion"
      ]
    },
    {
      "cell_type": "code",
      "metadata": {
        "id": "svu5Z1R20aR1"
      },
      "source": [
        "#Prediction du loyer\r\n",
        "#Si vous avez une surface de 50m2\r\n",
        "X_to_predict=[[50]]\r\n",
        "y_predicted=regr.predict(X_to_predict)\r\n",
        "y_predicted"
      ],
      "execution_count": null,
      "outputs": []
    }
  ]
}